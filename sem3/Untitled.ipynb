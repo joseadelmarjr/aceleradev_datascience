{
 "cells": [
  {
   "cell_type": "markdown",
   "metadata": {},
   "source": [
    "# Semana 2 - AceleraDev - Data Science"
   ]
  },
  {
   "cell_type": "markdown",
   "metadata": {},
   "source": [
    "Para fins de organização, renomeei o arquivo \"submission.json\" para \"padrao_resposta.json\""
   ]
  },
  {
   "cell_type": "code",
   "execution_count": 4,
   "metadata": {},
   "outputs": [
    {
     "data": {
      "text/plain": [
       "Index(['RowNumber', 'id', 'sobrenome', 'pontuacao_credito',\n",
       "       'estado_residencia', 'genero', 'idade', 'nivel_estabilidade',\n",
       "       'saldo_conta', 'numero_produtos', 'possui_cartao_de_credito',\n",
       "       'membro_ativo'],\n",
       "      dtype='object')"
      ]
     },
     "execution_count": 4,
     "metadata": {},
     "output_type": "execute_result"
    }
   ],
   "source": [
    "import pandas as pd\n",
    "\n",
    "df = pd.read_csv('desafio1.csv')\n",
    "df.columns"
   ]
  },
  {
   "cell_type": "code",
   "execution_count": 58,
   "metadata": {},
   "outputs": [],
   "source": [
    "estados = df['estado_residencia'].unique()\n",
    "formato_final = pd.read_json('padrao_resposta.json',dtype='float')\n",
    "for estado in estados:\n",
    "    dados_estado_atual = df[df['estado_residencia'] == estado]['pontuacao_credito'] #Filtrando as respostas do estado    \n",
    "    #Realizando os cálculos\n",
    "    formato_final[estado]['moda'] = dados_estado_atual.mode()\n",
    "    formato_final[estado]['mediana'] = dados_estado_atual.median()\n",
    "    formato_final[estado]['media'] = dados_estado_atual.mean()\n",
    "    formato_final[estado]['desvio_padrao'] = dados_estado_atual.std()\n",
    "#salvando o dataframe em formato json    \n",
    "formato_final.to_json('submission.json')\n"
   ]
  },
  {
   "cell_type": "code",
   "execution_count": 31,
   "metadata": {},
   "outputs": [],
   "source": [
    "resposta = pd.DataFrame(df.groupby('estado_residencia')['pontuacao_credito'].mean())"
   ]
  }
 ],
 "metadata": {
  "kernelspec": {
   "display_name": "Python 3",
   "language": "python",
   "name": "python3"
  },
  "language_info": {
   "codemirror_mode": {
    "name": "ipython",
    "version": 3
   },
   "file_extension": ".py",
   "mimetype": "text/x-python",
   "name": "python",
   "nbconvert_exporter": "python",
   "pygments_lexer": "ipython3",
   "version": "3.7.6"
  }
 },
 "nbformat": 4,
 "nbformat_minor": 2
}
